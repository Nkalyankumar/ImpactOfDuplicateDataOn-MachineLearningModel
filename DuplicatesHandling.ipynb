{
 "cells": [
  {
   "cell_type": "markdown",
   "id": "cf5f4571",
   "metadata": {},
   "source": [
    "# Impact of Duplicate Data while Training the ML Model"
   ]
  },
  {
   "cell_type": "markdown",
   "id": "b87e1be5",
   "metadata": {},
   "source": [
    "# 1.REGRESSION TECHNIQUES"
   ]
  },
  {
   "cell_type": "markdown",
   "id": "0a0e192c",
   "metadata": {},
   "source": [
    "# Model Behaviour on Original dataset"
   ]
  },
  {
   "cell_type": "code",
   "execution_count": null,
   "id": "d56fbf90",
   "metadata": {},
   "outputs": [],
   "source": [
    "#Dataset used ---> BoustonHousing Dataset\n",
    "#Models Used --> All Regression Classifier"
   ]
  },
  {
   "cell_type": "markdown",
   "id": "7941fbc4",
   "metadata": {},
   "source": [
    "# DataCleaning"
   ]
  },
  {
   "cell_type": "code",
   "execution_count": 81,
   "id": "3f0fcf27",
   "metadata": {},
   "outputs": [
    {
     "name": "stdout",
     "output_type": "stream",
     "text": [
      "The Null Valued Attributes in the Dataset are ['CRIM', 'ZN', 'INDUS', 'CHAS', 'AGE', 'LSTAT']\n",
      "The Ratio of NullValue Presence in Dataset 42.857142857142854 Percentage\n"
     ]
    }
   ],
   "source": [
    "import pandas\n",
    "from sklearn.model_selection import train_test_split\n",
    "from sklearn.linear_model import LinearRegression,LogisticRegression,Lasso,Ridge,ElasticNet\n",
    "from sklearn.metrics import mean_squared_error\n",
    "from sklearn.metrics import r2_score\n",
    "\n",
    "\n",
    "data_frame = pandas.read_csv('HousingData.csv')\n",
    "\n",
    "    \n",
    "#Removing Null Valued Attributes\n",
    "df_attributes = data_frame.columns.tolist()\n",
    "null_valued_attributes = []\n",
    "for attribute in df_attributes:\n",
    "    if(data_frame[attribute].isnull().any()):\n",
    "        null_valued_attributes.append(attribute)\n",
    "print(\"The Null Valued Attributes in the Dataset are\",null_valued_attributes)\n",
    "\n",
    "print(\"The Ratio of NullValue Presence in Dataset\",(len(null_valued_attributes)/len(df_attributes))*100,\"Percentage\")\n",
    "#removing all the null valued rows in the dataframe\n",
    "\n",
    "clean_data_frame = data_frame.dropna()"
   ]
  },
  {
   "cell_type": "markdown",
   "id": "d7114202",
   "metadata": {},
   "source": [
    "# Fitting Regression Models on the Original Data"
   ]
  },
  {
   "cell_type": "code",
   "execution_count": 2,
   "id": "46cd81d4",
   "metadata": {},
   "outputs": [
    {
     "name": "stdout",
     "output_type": "stream",
     "text": [
      "The MeanSqaured Error of the Model 17.857914667618243\n",
      "The Accuracy of the Model 79.59041647709702\n",
      "The MeanSqaured Error of the Model 17.82044703646715\n",
      "The Accuracy of the Model 79.63323775615545\n",
      "The MeanSqaured Error of the Model 17.756485674630998\n",
      "The Accuracy of the Model 79.70633838301647\n",
      "The MeanSqaured Error of the Model 20.034279965734164\n",
      "The Accuracy of the Model 77.10307626100847\n"
     ]
    }
   ],
   "source": [
    "X = clean_data_frame.drop('MEDV',axis = 1)\n",
    "y = clean_data_frame['MEDV']\n",
    "\n",
    "\n",
    "X_train,X_test,y_train,y_test = train_test_split(X,y,test_size = 0.2)\n",
    "\n",
    "\n",
    "Model11 = LinearRegression()\n",
    "Model11.fit(X_train,y_train)\n",
    "y_pred11 = Model11.predict(X_test)\n",
    "mse_error11 = mean_squared_error(y_test,y_pred11)\n",
    "accuracy11 = r2_score(y_test,y_pred11)\n",
    "print(\"The MeanSqaured Error of the Model\",mse_error11)\n",
    "print(\"The Accuracy of the Model\",accuracy11*100)\n",
    "\n",
    "\n",
    "\n",
    "\n",
    "Model12 = Lasso(alpha = 0.1)\n",
    "Model12.fit(X_train,y_train)\n",
    "y_pred12 = Model12.predict(X_test)\n",
    "mse_error12 = mean_squared_error(y_test,y_pred12)\n",
    "accuracy12 = r2_score(y_test,y_pred12)\n",
    "print(\"The MeanSqaured Error of the Model\",mse_error12)\n",
    "print(\"The Accuracy of the Model\",accuracy12*100)\n",
    "\n",
    "\n",
    "\n",
    "Model13 = Ridge(alpha = 2)\n",
    "Model13.fit(X_train,y_train)\n",
    "y_pred13 = Model13.predict(X_test)\n",
    "mse_error13 = mean_squared_error(y_test,y_pred13)\n",
    "accuracy13 = r2_score(y_test,y_pred13)\n",
    "print(\"The MeanSqaured Error of the Model\",mse_error13)\n",
    "print(\"The Accuracy of the Model\",accuracy13*100)\n",
    "\n",
    "\n",
    "\n",
    "\n",
    "Model14 = ElasticNet(alpha = 1)\n",
    "Model14.fit(X_train,y_train)\n",
    "y_pred14 = Model14.predict(X_test)\n",
    "mse_error14 = mean_squared_error(y_test,y_pred14)\n",
    "accuracy14 = r2_score(y_test,y_pred14)\n",
    "print(\"The MeanSqaured Error of the Model\",mse_error14)\n",
    "print(\"The Accuracy of the Model\",accuracy14*100)"
   ]
  },
  {
   "cell_type": "markdown",
   "id": "34e2c269",
   "metadata": {},
   "source": [
    "# Adding Some Duplicated Data to the DataFrame to Dataset"
   ]
  },
  {
   "cell_type": "code",
   "execution_count": 92,
   "id": "ce27da0f",
   "metadata": {},
   "outputs": [],
   "source": [
    "duplicated_data_frame = clean_data_frame.copy()\n",
    "duplicated_data_frame.reset_index(drop = True,inplace = True)\n",
    "#Adding 100 duplicated random row\n",
    "for count in range(100):\n",
    "    duplicated_data_frame.loc[len(duplicated_data_frame)] = duplicated_data_frame.iloc[random.randint(0,len(duplicated_data_frame)-1)].tolist()"
   ]
  },
  {
   "cell_type": "markdown",
   "id": "ba0aa31b",
   "metadata": {},
   "source": [
    "# Fitting Regression Models on the Duplicated Data"
   ]
  },
  {
   "cell_type": "code",
   "execution_count": 95,
   "id": "ccc9ed98",
   "metadata": {},
   "outputs": [
    {
     "name": "stdout",
     "output_type": "stream",
     "text": [
      "The MeanSquared Error of the Model 25.023686101094487\n",
      "The Accuracy of the Model 71.73503632736295\n",
      "The MeanSquared Error of the Model 27.775086666737202\n",
      "The Accuracy of the Model 68.62725129830748\n",
      "The MeanSquared Error of the Model 25.506971670747163\n",
      "The Accuracy of the Model 71.18915155984482\n",
      "The MeanSquared Error of the Model 34.43273542241158\n",
      "The Accuracy of the Model 61.107248071601305\n"
     ]
    }
   ],
   "source": [
    "X = duplicated_data_frame.drop('MEDV',axis = 1)\n",
    "y = duplicated_data_frame['MEDV']\n",
    "\n",
    "\n",
    "X_train,X_test,y_train,y_test = train_test_split(X,y,test_size = 0.2)\n",
    "\n",
    "Model21 = LinearRegression()\n",
    "Model21.fit(X_train, y_train)\n",
    "y_pred21 = Model21.predict(X_test)\n",
    "mse_error21 = mean_squared_error(y_test, y_pred21)\n",
    "accuracy21 = r2_score(y_test, y_pred21)\n",
    "print(\"The MeanSquared Error of the Model\", mse_error21)\n",
    "print(\"The Accuracy of the Model\", accuracy21 * 100)\n",
    "\n",
    "Model22 = Lasso(alpha=0.2)\n",
    "Model22.fit(X_train, y_train)\n",
    "y_pred22 = Model22.predict(X_test)\n",
    "mse_error22 = mean_squared_error(y_test, y_pred22)\n",
    "accuracy22 = r2_score(y_test, y_pred22)\n",
    "print(\"The MeanSquared Error of the Model\", mse_error22)\n",
    "print(\"The Accuracy of the Model\", accuracy22 * 100)\n",
    "\n",
    "Model23 = Ridge(alpha=2)\n",
    "Model23.fit(X_train, y_train)\n",
    "y_pred23 = Model23.predict(X_test)\n",
    "mse_error23 = mean_squared_error(y_test, y_pred23)\n",
    "accuracy23 = r2_score(y_test, y_pred23)\n",
    "print(\"The MeanSquared Error of the Model\", mse_error23)\n",
    "print(\"The Accuracy of the Model\", accuracy23 * 100)\n",
    "\n",
    "Model24 = ElasticNet(alpha=2)\n",
    "Model24.fit(X_train, y_train)\n",
    "y_pred24 = Model24.predict(X_test)\n",
    "mse_error24 = mean_squared_error(y_test, y_pred24)\n",
    "accuracy24 = r2_score(y_test, y_pred24)\n",
    "print(\"The MeanSquared Error of the Model\", mse_error24)\n",
    "print(\"The Accuracy of the Model\", accuracy24 * 100)"
   ]
  },
  {
   "cell_type": "markdown",
   "id": "1e830153",
   "metadata": {},
   "source": [
    "# Obsrvations"
   ]
  },
  {
   "cell_type": "code",
   "execution_count": 120,
   "id": "2daea03e",
   "metadata": {},
   "outputs": [
    {
     "data": {
      "image/png": "[encoded data removed]",
      "text/plain": [
       "<Figure size 1440x864 with 1 Axes>"
      ]
     },
     "metadata": {
      "needs_background": "light"
     },
     "output_type": "display_data"
    }
   ],
   "source": [
    "import matplotlib.pyplot as plt\n",
    "import numpy as np\n",
    "original_df_accuracies = [accuracy11, accuracy12, accuracy13,accuracy14]\n",
    "duplicated_df_accuracies  = [accuracy21, accuracy22, accuracy23, accuracy24]\n",
    "f = plt.figure()\n",
    "f.set_figwidth(20)\n",
    "f.set_figheight(12)\n",
    "model_names = ['linearreg','lasso','ridge','elastic']\n",
    "X_axis = np.arange(len(model_names))\n",
    "plt.bar(X_axis - 0.2,original_df_accuracies, 0.4, label = 'Original_df')\n",
    "plt.bar(X_axis + 0.2,duplicated_df_accuracies, 0.4, label = 'duplicated_df')\n",
    "plt.xticks(X_axis, model_names)\n",
    "plt.title(\"Regression Models Behaviour when the Data is Duplicated\")\n",
    "plt.xlabel(\"Accuracy\")\n",
    "plt.ylabel(\"Model Used\")\n",
    "plt.legend()\n",
    "plt.show()"
   ]
  },
  {
   "cell_type": "markdown",
   "id": "a46031f1",
   "metadata": {},
   "source": [
    "# 1.CLASSIFICATION TECHNIQUES"
   ]
  },
  {
   "cell_type": "code",
   "execution_count": null,
   "id": "9ce3c130",
   "metadata": {},
   "outputs": [],
   "source": [
    "#Dataset used -----> Diabetes.csv\n",
    "#Models used ------> Classification models"
   ]
  },
  {
   "cell_type": "markdown",
   "id": "67405859",
   "metadata": {},
   "source": [
    "# Fitting Classification Models on the Original Data"
   ]
  },
  {
   "cell_type": "code",
   "execution_count": 121,
   "id": "1622e45d",
   "metadata": {},
   "outputs": [],
   "source": [
    "#Importing the Libraries\n",
    "\n",
    "\n",
    "\n",
    "import pandas\n",
    "import matplotlib.pyplot as plt\n",
    "import seaborn\n",
    "from sklearn.model_selection import train_test_split\n",
    "from sklearn.tree import DecisionTreeClassifier\n",
    "from sklearn.metrics import accuracy_score\n",
    "from sklearn.linear_model import LogisticRegression\n",
    "from sklearn.neighbors import KNeighborsClassifier\n",
    "from sklearn.svm import SVC\n",
    "from sklearn.ensemble import VotingClassifier\n",
    "from sklearn.ensemble import BaggingClassifier\n",
    "from sklearn import tree\n",
    "from sklearn.ensemble import RandomForestClassifier\n",
    "from sklearn.ensemble import GradientBoostingClassifier\n",
    "import xgboost as xgb\n",
    "import matplotlib.pyplot as plt\n",
    "\n",
    "\n",
    "\n",
    "\n",
    "\n",
    "#Data Preparation\n",
    "data_frame = pandas.read_csv(\"diabetes.csv\")\n",
    "X = data_frame[['Glucose','BloodPressure','SkinThickness','Insulin','BMI','DiabetesPedigreeFunction','Age']].values.tolist()\n",
    "y = data_frame['Outcome'].values.tolist()\n",
    "X_train,X_test,y_train,y_test = train_test_split(X,y,test_size = 0.3)\n",
    "\n",
    "\n",
    "\n",
    "\n",
    "\n",
    "#1.Decision Tree Classifier\n",
    "DTClassifier = DecisionTreeClassifier()\n",
    "DTClassifier.fit(X_train,y_train)\n",
    "y_pred1 = DTClassifier.predict(X_test)\n",
    "accuracy11 = accuracy_score(y_pred1,y_test)\n",
    "\n",
    "\n",
    "\n",
    "\n",
    "#2.LogisticRegression Classifier\n",
    "LRModel = LogisticRegression(max_iter = 1000)\n",
    "LRModel.fit(X_train,y_train)\n",
    "y_pred2 = LRModel.predict(X_test)\n",
    "accuracy12 = accuracy_score(y_pred2,y_test)\n",
    "\n",
    "\n",
    "#3.KNNClassifier\n",
    "KNNClassifier = KNeighborsClassifier()\n",
    "KNNClassifier.fit(X_train,y_train)\n",
    "y_pred3 = KNNClassifier.predict(X_test)\n",
    "accuracy13 = accuracy_score(y_pred3,y_test)\n",
    "\n",
    "\n",
    "\n",
    "\n",
    "#Svm classifier\n",
    "svc_classifier = SVC()\n",
    "svc_classifier.fit(X_train,y_train)\n",
    "y_pred4 = svc_classifier.predict(X_test)\n",
    "accuracy14 = accuracy_score(y_pred4,y_test)\n",
    "\n",
    "\n",
    "\n",
    "#Max Voting Ensemble Technique\n",
    "ensemble_model1 =  VotingClassifier(estimators = [('dt',DTClassifier),('lr',LRModel),('knn',KNNClassifier),('svc',svc_classifier)],voting = \"hard\")\n",
    "ensemble_model1.fit(X_train,y_train)\n",
    "y_pred5 = ensemble_model1.predict(X_test)\n",
    "accuracy15 = accuracy_score(y_pred5,y_test)\n",
    "\n",
    "\n",
    "\n",
    "#Bagging Classifier\n",
    "bagging_model = BaggingClassifier(tree.DecisionTreeClassifier(random_state=1))\n",
    "bagging_model.fit(X_train, y_train)\n",
    "accuracy16 = bagging_model.score(X_test,y_test)\n",
    "\n",
    "#RandomForestClassifier\n",
    "rfc_model = RandomForestClassifier()\n",
    "rfc_model.fit(X_train, y_train)\n",
    "accuracy17 = rfc_model.score(X_test,y_test)\n",
    "\n",
    "\n",
    "#GradientBoostingClassifier\n",
    "gbc_model = GradientBoostingClassifier()\n",
    "gbc_model.fit(X_train, y_train)\n",
    "accuracy18 = gbc_model.score(X_test,y_test)\n",
    "\n",
    "#xgboost\n",
    "xgb_model = xgb.XGBClassifier()\n",
    "xgb_model.fit(X_train, y_train)\n",
    "accuracy19 = xgb_model.score(X_test,y_test)\n"
   ]
  },
  {
   "cell_type": "markdown",
   "id": "6addda7e",
   "metadata": {},
   "source": [
    "# Adding some Duplicate data"
   ]
  },
  {
   "cell_type": "code",
   "execution_count": 122,
   "id": "cc48d9dd",
   "metadata": {},
   "outputs": [],
   "source": [
    "duplicated_data_frame = data_frame.copy()\n",
    "duplicated_data_frame.reset_index(drop = True,inplace = True)\n",
    "#Adding 100 duplicated random row\n",
    "for count in range(100):\n",
    "    duplicated_data_frame.loc[len(duplicated_data_frame)] = duplicated_data_frame.iloc[random.randint(0,len(duplicated_data_frame)-1)].tolist()\n"
   ]
  },
  {
   "cell_type": "markdown",
   "id": "c43dcfd5",
   "metadata": {},
   "source": [
    "# Fitting Classsification Models on the Duplicated Data"
   ]
  },
  {
   "cell_type": "code",
   "execution_count": 123,
   "id": "ee5763c9",
   "metadata": {},
   "outputs": [],
   "source": [
    "\n",
    "X = duplicated_data_frame[['Glucose','BloodPressure','SkinThickness','Insulin','BMI','DiabetesPedigreeFunction','Age']].values.tolist()\n",
    "y = duplicated_data_frame['Outcome'].values.tolist()\n",
    "X_train,X_test,y_train,y_test = train_test_split(X,y,test_size = 0.3)\n",
    "\n",
    "\n",
    "\n",
    "\n",
    "\n",
    "#1.Decision Tree Classifier\n",
    "DTClassifier = DecisionTreeClassifier()\n",
    "DTClassifier.fit(X_train,y_train)\n",
    "y_pred1 = DTClassifier.predict(X_test)\n",
    "accuracy21 = accuracy_score(y_pred1,y_test)\n",
    "\n",
    "\n",
    "\n",
    "#2.LogisticRegression Classifier\n",
    "LRModel = LogisticRegression(max_iter = 1000)\n",
    "LRModel.fit(X_train,y_train)\n",
    "y_pred2 = LRModel.predict(X_test)\n",
    "accuracy22 = accuracy_score(y_pred2,y_test)\n",
    "\n",
    "\n",
    "#3.KNNClassifier\n",
    "KNNClassifier = KNeighborsClassifier()\n",
    "KNNClassifier.fit(X_train,y_train)\n",
    "y_pred3 = KNNClassifier.predict(X_test)\n",
    "accuracy23 = accuracy_score(y_pred3,y_test)\n",
    "\n",
    "\n",
    "\n",
    "\n",
    "#Svm classifier\n",
    "svc_classifier = SVC()\n",
    "svc_classifier.fit(X_train,y_train)\n",
    "y_pred4 = svc_classifier.predict(X_test)\n",
    "accuracy24 = accuracy_score(y_pred4,y_test)\n",
    "\n",
    "\n",
    "#Max Voting Ensemble Technique\n",
    "ensemble_model1 =  VotingClassifier(estimators = [('dt',DTClassifier),('lr',LRModel),('knn',KNNClassifier),('svc',svc_classifier)],voting = \"hard\")\n",
    "ensemble_model1.fit(X_train,y_train)\n",
    "y_pred5 = ensemble_model1.predict(X_test)\n",
    "accuracy25 = accuracy_score(y_pred5,y_test)\n",
    "\n",
    "\n",
    "\n",
    "\n",
    "#Bagging Classifier\n",
    "bagging_model = BaggingClassifier(tree.DecisionTreeClassifier(random_state=1))\n",
    "bagging_model.fit(X_train, y_train)\n",
    "accuracy26 = bagging_model.score(X_test,y_test)\n",
    "\n",
    "#RandomForestClassifier\n",
    "rfc_model = RandomForestClassifier()\n",
    "rfc_model.fit(X_train, y_train)\n",
    "accuracy27 = rfc_model.score(X_test,y_test)\n",
    "\n",
    "\n",
    "#GradientBoostingClassifier\n",
    "gbc_model = GradientBoostingClassifier()\n",
    "gbc_model.fit(X_train, y_train)\n",
    "accuracy28 = gbc_model.score(X_test,y_test)\n",
    "\n",
    "#xgboost\n",
    "xgb_model = xgb.XGBClassifier()\n",
    "xgb_model.fit(X_train, y_train)\n",
    "accuracy29 = xgb_model.score(X_test,y_test)"
   ]
  },
  {
   "cell_type": "markdown",
   "id": "723c28c5",
   "metadata": {},
   "source": [
    "# Observations"
   ]
  },
  {
   "cell_type": "code",
   "execution_count": 124,
   "id": "c4369442",
   "metadata": {},
   "outputs": [
    {
     "data": {
      "image/png": "[encoded data removed]",
      "text/plain": [
       "<Figure size 1440x864 with 1 Axes>"
      ]
     },
     "metadata": {
      "needs_background": "light"
     },
     "output_type": "display_data"
    }
   ],
   "source": [
    "import matplotlib.pyplot as plt\n",
    "import numpy as np\n",
    "original_df_accuracies = [accuracy11, accuracy12, accuracy13,accuracy14,accuracy15,accuracy16,accuracy17,accuracy18,accuracy19]\n",
    "duplicated_df_accuracies  = [accuracy21, accuracy22, accuracy23,accuracy24,accuracy25,accuracy26,accuracy27,accuracy28,accuracy29]\n",
    "\n",
    "f = plt.figure()\n",
    "f.set_figwidth(20)\n",
    "f.set_figheight(12)\n",
    "model_names = ['DTClassifier','LRModel','KNNClassifier','svc_classifier','ensemble_model1','bagging_model','rfc_model','gbc_model','xgb_model']\n",
    "X_axis = np.arange(len(model_names))\n",
    "plt.bar(X_axis - 0.2,original_df_accuracies, 0.4, label = 'Original_df')\n",
    "plt.bar(X_axis + 0.2,duplicated_df_accuracies, 0.4, label = 'duplicated_df')\n",
    "plt.xticks(X_axis, model_names)\n",
    "plt.title(\"Classification Models Behaviour when the Data is Duplicated\")\n",
    "plt.xlabel(\"Accuracy\")\n",
    "plt.ylabel(\"Model Used\")\n",
    "plt.legend()\n",
    "plt.show()"
   ]
  }
 ],
 "metadata": {
  "kernelspec": {
   "display_name": "Python 3 (ipykernel)",
   "language": "python",
   "name": "python3"
  },
  "language_info": {
   "codemirror_mode": {
    "name": "ipython",
    "version": 3
   },
   "file_extension": ".py",
   "mimetype": "text/x-python",
   "name": "python",
   "nbconvert_exporter": "python",
   "pygments_lexer": "ipython3",
   "version": "3.9.12"
  }
 },
 "nbformat": 4,
 "nbformat_minor": 5
}
